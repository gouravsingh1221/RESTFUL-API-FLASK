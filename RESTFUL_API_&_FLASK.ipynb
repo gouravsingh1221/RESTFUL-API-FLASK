{
  "nbformat": 4,
  "nbformat_minor": 0,
  "metadata": {
    "colab": {
      "provenance": []
    },
    "kernelspec": {
      "name": "python3",
      "display_name": "Python 3"
    },
    "language_info": {
      "name": "python"
    }
  },
  "cells": [
    {
      "cell_type": "markdown",
      "source": [
        "                                 T H E O R Y  Q U E S T I O N\n",
        " ---\n",
        " ---\n",
        "<br>\n",
        "\n",
        "# Q1 What is a RESTful API ?   \n",
        "\n",
        "Ans.-  A **RESTful API** is a type of web API that follows the rules of **REST (Representational State Transfer)**. It allows different systems to **communicate over the internet** using standard HTTP methods like **GET, POST, PUT, and DELETE**. RESTful APIs are used to **create, read, update, or delete data** from a server in a simple and organized way.\n",
        "\n",
        "<br>\n",
        "\n",
        "---\n",
        "\n",
        "<br>\n",
        "\n",
        "#Q2  Explain the concept of API specification ?\n",
        "\n",
        "Ans.-  An API specification is a detailed document that describes how an API works. It explains what endpoints are available, what kind of requests (like GET or POST) can be made, what data you need to send, and what response you will get back. It acts like a guide or manual for developers to understand how to properly use the API.\n",
        "\n",
        "<br>\n",
        "\n",
        "---\n",
        "\n",
        "<br>\n",
        "\n",
        "#Q3  What is Flask, and why is it popular for building APIs ?\n",
        "\n",
        "Ans.-  **Flask** is a **lightweight Python web framework** used to build **web applications and APIs**. It is popular because it is **simple, flexible, and easy to use**, especially for beginners. Flask allows developers to create APIs quickly with minimal setup, and it gives them full control over how things are built. It’s also popular because it supports extensions, has good documentation, and works well for **small to medium-sized projects**.\n",
        "\n",
        "<br>\n",
        "\n",
        "---\n",
        "\n",
        "<br>\n",
        "\n",
        "#Q4  What is routing in Flask ?\n",
        "\n",
        "Ans.-  **Routing in Flask** means **connecting a URL (web address) to a specific function** in your Python code. When someone visits that URL, Flask runs the function and shows the result.\n",
        "\n",
        "**For example**, if someone opens `/home`, Flask will call the function you assigned to handle `/home` and return a response like a message or webpage. Routing is used to **control what the user sees** when they visit different parts of a website or API.\n",
        "\n",
        "<br>\n",
        "\n",
        "---\n",
        "\n",
        "<br>\n",
        "\n",
        "#Q5  How do you create a simple Flask application ?\n",
        "\n",
        "Ans.-  To create a simple Flask application, you first import the Flask library and then create an app object using Flask(__name__). Next, you define routes using the @app.route() decorator, which connects a URL to a specific function. Inside the function, you write what the app should return when someone visits that URL, like a message or webpage. Finally, you run the app using app.run(). This will start a local server where you can view and test your Flask application in a web browser.\n",
        "\n",
        "<br>\n",
        "\n",
        "---\n",
        "\n",
        "<br>\n",
        "\n",
        "#Q6 What are HTTP methods used in RESTful APIs ?\n",
        "\n",
        "Ans.- The HTTP methods commonly used in RESTful APIs are:\n",
        "\n",
        "- GET – To read or retrieve data from the server\n",
        "\n",
        "- POST – To create new data on the server\n",
        "\n",
        "- PUT – To update existing data completely\n",
        "\n",
        "- PATCH – To partially update existing data\n",
        "\n",
        "- DELETE – To remove data from the server\n",
        "\n",
        "<br>\n",
        "\n",
        "---\n",
        "\n",
        "<br>\n",
        "\n",
        "#Q7  What is the purpose of the @app.route() decorator in Flask ?\n",
        "\n",
        "Ans.-  The @app.route() decorator in Flask is used to connect a URL path to a specific function.\n",
        "\n",
        "Its purpose is to tell Flask:\n",
        "“When a user visits this URL, run this function and show its result.”\n",
        "\n",
        "For example, @app.route('/') links the home page (/) to the function that returns a message or web content. It is an essential part of routing in Flask.\n",
        "\n",
        "<br>\n",
        "\n",
        "---\n",
        "\n",
        "<br>\n",
        "\n",
        "#Q8  What is the difference between GET and POST HTTP methods ?\n",
        "\n",
        "Ans.-  The **GET** and **POST** methods are both used to send data to a server, but they work differently:\n",
        "\n",
        "* **GET** is used to **request or read data** from the server. The data is sent in the **URL** (visible), and it is mainly used for **viewing** information, not changing it.\n",
        "\n",
        "* **POST** is used to **send data to the server** to **create or update** something. The data is sent in the **body** of the request (hidden), and it's often used in **forms or data submissions**.\n",
        "\n",
        "In short:\n",
        "\n",
        "* `GET = read/view`\n",
        "* `POST = send/create`\n",
        "\n",
        "<br>\n",
        "\n",
        "---\n",
        "\n",
        "<br>\n",
        "\n",
        "#Q9  How do you handle errors in Flask APIs ?\n",
        "\n",
        "Ans.- In Flask APIs, **error handling** is done to manage situations where something goes wrong, like a wrong URL or a server issue. Flask provides a way to handle these errors using **error handler functions**. These functions are defined with the `@app.errorhandler()` decorator. The purpose is to show a **custom error message** instead of a default one.\n",
        "\n",
        "**For example**, you can handle a **404 error (page not found)** or a **500 error (internal server error)** and return a message that makes more sense to the user. This helps make the API more **user-friendly and easy to debug**.\n",
        "\n",
        "<br>\n",
        "\n",
        "---\n",
        "\n",
        "<br>\n",
        "\n",
        "#Q10  How do you connect Flask to a SQL database ?\n",
        "\n",
        "Ans.- To connect Flask to a SQL database, you usually use a tool like Flask-SQLAlchemy, which makes it easier to work with databases in Python. First, you install the library and then configure the database URI (like the path to a SQLite or MySQL database) in your Flask app. After that, you create models (Python classes) that represent database tables. Flask-SQLAlchemy handles the connection and lets you easily add, read, update, or delete data from the database using Python code.\n",
        "\n",
        "<br>\n",
        "\n",
        "---\n",
        "\n",
        "<br>\n",
        "\n",
        "#Q11  What is the role of Flask-SQLAlchemy ?\n",
        "\n",
        "Ans.- The role of **Flask-SQLAlchemy** is to help **connect Flask with a SQL database** and make it easier to work with database operations in Python.\n",
        "\n",
        "It acts as a **bridge** between Flask and SQL databases (like SQLite, MySQL, or PostgreSQL). Instead of writing raw SQL queries, you can use **Python classes and objects** to create tables, insert data, and run queries. Flask-SQLAlchemy simplifies tasks like **creating tables, updating records, deleting rows**, and more — all using clean and readable Python code.\n",
        "\n",
        "In short, it makes database work in Flask **easier, faster, and more Pythonic**.\n",
        "\n",
        "<br>\n",
        "\n",
        "---\n",
        "\n",
        "<br>\n",
        "\n",
        "#Q12  What are Flask blueprints, and how are they useful ?\n",
        "\n",
        "Ans.-  **Flask Blueprints** are a way to **organize your Flask application into smaller, reusable parts**.\n",
        "\n",
        "They allow you to split your app into **modules** (like user routes, admin routes, etc.) so your code stays **clean and well-structured** — especially in larger projects. Instead of writing all your routes in one file, you can define them in separate blueprints and then **register** them in the main app.\n",
        "\n",
        "This makes your project easier to manage, test, and maintain. Blueprints are very useful when your app grows and has **multiple features or sections**.\n",
        "\n",
        "<br>\n",
        "\n",
        "---\n",
        "\n",
        "<br>\n",
        "\n",
        "#Q13  What is the purpose of Flask's request object ?\n",
        "\n",
        "Ans.-  The request object in Flask is used to access data sent by the client (user) to the server.\n",
        "\n",
        "It helps you get information like:\n",
        "\n",
        "- Form data\n",
        "\n",
        "- JSON data\n",
        "\n",
        "- Query parameters in the URL\n",
        "\n",
        "- HTTP method (GET, POST, etc.)\n",
        "\n",
        "For example, if a user submits a form, you can use request.form to read the entered values. It is an important tool for handling user input in Flask APIs and web apps.\n",
        "\n",
        "<br>\n",
        "\n",
        "---\n",
        "\n",
        "<br>\n",
        "\n",
        "#Q14  How do you create a RESTful API endpoint using Flask ?\n",
        "\n",
        "Ans.- To create a RESTful API endpoint in Flask, you define a route that connects a URL path to a function, and specify which HTTP method it supports (like GET, POST, etc.). The function then handles the request and sends back a response, usually in JSON format. This setup allows the Flask app to act like an API server where users or systems can send requests and receive data in a structured way.\n",
        "\n",
        "<br>\n",
        "\n",
        "---\n",
        "\n",
        "<br>\n",
        "\n",
        "#Q15  What is the purpose of Flask's jsonify() function ?\n",
        "\n",
        "Ans.- The purpose of Flask's jsonify() function is to convert Python data (like dictionaries or lists) into JSON format, which is commonly used in APIs.\n",
        "\n",
        "When building a RESTful API, responses are usually sent in JSON, and jsonify() makes this easy. It also automatically sets the correct content type and encoding for the response.\n",
        "\n",
        "In short, jsonify() helps return clean, proper, and readable API responses from your Flask application.\n",
        "\n",
        "<br>\n",
        "\n",
        "---\n",
        "\n",
        "<br>\n",
        "\n",
        "#Q16  Explain Flask’s url_for() function ?\n",
        "\n",
        "Ans.- The purpose of Flask’s url_for() function is to generate the URL of a specific function or route in your app.\n",
        "\n",
        "Instead of writing the URL directly as a string, you use url_for('function_name'). This makes your code more flexible and error-free, especially if the URL changes later — you only need to change it in one place.\n",
        "\n",
        "It’s commonly used when creating links, redirects, or navigation in Flask apps.\n",
        "In short, url_for() helps you build URLs dynamically using the function names.\n",
        "\n",
        "<br>\n",
        "\n",
        "----\n",
        "\n",
        "<br>\n",
        "\n",
        "#Q17  How does Flask handle static files (CSS, JavaScript, etc.) ?\n",
        "\n",
        "Ans.- Flask handles static files like CSS, JavaScript, and images through a special folder named static in your project. When you place your files inside this folder, Flask can serve them directly to the browser.\n",
        "\n",
        "You can access these files in your HTML using the url_for('static', filename='yourfile.css') function. This ensures the file path is generated correctly.\n",
        "\n",
        "In simple terms, the static folder is where you keep all your design and script files, and Flask makes them available to the user automatically.\n",
        "\n",
        "<br>\n",
        "\n",
        "---\n",
        "\n",
        "<br>\n",
        "\n",
        "#Q18  What is an API specification, and how does it help in building a Flask API ?\n",
        "\n",
        "Ans.- An API specification is a detailed plan or document that describes how an API works. It explains what endpoints are available, what kind of data they accept (input), what they return (output), and which HTTP methods (GET, POST, etc.) are used.\n",
        "\n",
        "In Flask, an API specification helps developers:\n",
        "\n",
        "- Understand what routes need to be created\n",
        "\n",
        "- Know what data to send and expect\n",
        "\n",
        "- Keep the API design clear and consistent\n",
        "\n",
        "It acts like a blueprint that guides the development of the Flask API and helps different team members or systems work together smoothly.\n",
        "\n",
        "<br>\n",
        "\n",
        "---\n",
        "\n",
        "<br>\n",
        "\n",
        "#Q19  What are HTTP status codes, and why are they important in a Flask API ?\n",
        "\n",
        "Ans.- HTTP status codes are 3-digit numbers returned by a web server to show the result of a client’s request (like from a browser or API call).\n",
        "\n",
        "They are important in a Flask API because they tell the client what happened with the request — whether it was successful, failed, or had some issue.\n",
        "\n",
        "- Common status codes:\n",
        "    - 200 – OK (request successful)\n",
        "\n",
        "    - 201 – Created (new resource added)\n",
        "\n",
        "    - 400 – Bad Request (invalid input)\n",
        "\n",
        "    - 404 – Not Found (resource doesn’t exist)\n",
        "\n",
        "    - 500 – Internal Server Error (something went wrong on the server)\n",
        "\n",
        "In Flask, you can return these codes with your responses to make your API more clear, reliable, and easy to debug.\n",
        "\n",
        "<br>\n",
        "\n",
        "---\n",
        "\n",
        "<br>\n",
        "\n",
        "#Q20  How do you handle POST requests in Flask ?\n",
        "\n",
        "Ans.- In Flask, **POST requests** are handled by creating a **route** with the `@app.route()` decorator and setting the method to **POST**. Inside the function, you use the **`request` object** to get the data sent by the client (like form data or JSON).\n",
        "\n",
        "This is useful when users submit forms or send data to your API.\n",
        "\n",
        "\n",
        "\n",
        "###  In short (theory):\n",
        "\n",
        "To handle POST requests in Flask:\n",
        "\n",
        "* Define a route with `methods=['POST']`\n",
        "* Use `request.form` or `request.json` to access the sent data\n",
        "* Process the data and return a response\n",
        "\n",
        "This allows your Flask app to **receive and use data** sent by users or other systems.\n",
        "\n",
        "<br>\n",
        "\n",
        "---\n",
        "\n",
        "<br>\n",
        "\n",
        "#Q21  How would you secure a Flask API ?\n",
        "\n",
        "Ans.- To **secure a Flask API**, you can use several methods to protect your data and control who can access it. Here are the main ways:\n",
        "\n",
        "1. **Authentication** – Use methods like **API keys**, **tokens**, or **login systems** to make sure only authorized users can access the API.\n",
        "\n",
        "2. **Authorization** – Make sure users can only access the parts of the API they are allowed to use.\n",
        "\n",
        "3. **HTTPS** – Use **SSL/TLS** to encrypt data during transfer so it stays safe from hackers.\n",
        "\n",
        "4. **Input Validation** – Always check the data sent by users to prevent attacks like SQL injection.\n",
        "\n",
        "5. **Rate Limiting** – Limit how many requests a user can make to prevent misuse or overload.\n",
        "\n",
        "6. **Use Flask Extensions** – Tools like **Flask-JWT**, **Flask-Login**, or **Flask-Limiter** help add security easily.\n",
        "\n",
        "These steps help protect your API from **unauthorized access, data leaks, and attacks**.\n",
        "\n",
        "<br>\n",
        "\n",
        "---\n",
        "\n",
        "<br>\n",
        "\n",
        "#Q22  What is the significance of the Flask-RESTful extension ?\n",
        "\n",
        "Ans.- The **Flask-RESTful** extension makes it easier to build **RESTful APIs** with Flask.\n",
        "\n",
        "Its significance is that it provides a **simple and organized structure** for creating API endpoints. Instead of writing everything manually, Flask-RESTful lets you define API resources as **Python classes**, making your code **cleaner, reusable, and more manageable**.\n",
        "\n",
        "It also helps with:\n",
        "\n",
        "* Automatically handling different HTTP methods (GET, POST, etc.)\n",
        "* Returning responses in JSON format\n",
        "* Managing request parsing and error handling easily\n",
        "\n",
        "In short, Flask-RESTful saves time and helps you build APIs in a **faster and more professional** way.\n",
        "\n",
        "<br>\n",
        "\n",
        "---\n",
        "\n",
        "<br>\n",
        "\n",
        "#Q23  What is the role of Flask’s session object ?\n",
        "\n",
        "Ans.- The **`session` object** in Flask is used to **store information about a user** across multiple requests (pages).\n",
        "\n",
        "It helps the app remember things like whether the user is **logged in**, their **username**, or other data — even as they move between different pages.\n",
        "\n",
        "Flask stores this session data on the client side (in the browser) as a **secure cookie**, but it is **encrypted** using a secret key so that it cannot be easily read or changed.\n",
        "\n",
        "In short, the `session` object is useful for **keeping track of user-specific data** while they are using the app.\n",
        "\n",
        "<br>\n",
        "\n",
        "---\n",
        "---"
      ],
      "metadata": {
        "id": "AvGIjOqaCQt6"
      }
    },
    {
      "cell_type": "markdown",
      "source": [
        "                                P R A C T I C A L  Q U E S T I O N"
      ],
      "metadata": {
        "id": "oPEFjHqQdAv0"
      }
    },
    {
      "cell_type": "markdown",
      "source": [
        "#Q1  How do you create a basic Flask application ?"
      ],
      "metadata": {
        "id": "QEeo68vu_myA"
      }
    },
    {
      "cell_type": "code",
      "source": [
        "!pip install flask-ngrok\n",
        "\n",
        "\n",
        "from flask import Flask\n",
        "from flask_ngrok import run_with_ngrok\n",
        "\n",
        "# Step 1: Create the app\n",
        "app = Flask(__name__)\n",
        "run_with_ngrok(app)  # This allows Flask to run in Google Colab\n",
        "\n",
        "# Step 2: Create a route\n",
        "@app.route('/')\n",
        "def home():\n",
        "    return \"✅ Hello! This is my first basic Flask app.\"\n",
        "\n",
        "# Step 3: Run the app\n",
        "app.run()\n"
      ],
      "metadata": {
        "id": "hLFowHU5_ZH9"
      },
      "execution_count": null,
      "outputs": []
    },
    {
      "cell_type": "markdown",
      "source": [
        "#Q2 How do you serve static files like images or CSS in Flask ?"
      ],
      "metadata": {
        "id": "tcaPxG3o_w2C"
      }
    },
    {
      "cell_type": "code",
      "source": [
        "\n",
        "\n",
        "\n",
        "# Make static folder\n",
        "!mkdir static\n",
        "\n",
        "# Create a sample CSS file\n",
        "with open(\"static/style.css\", \"w\") as f:\n",
        "    f.write(\"\"\"\n",
        "    body {\n",
        "        background-color: #f0f0f0;\n",
        "        font-family: Arial, sans-serif;\n",
        "        text-align: center;\n",
        "        margin-top: 50px;\n",
        "    }\n",
        "    h1 {\n",
        "        color: green;\n",
        "    }\n",
        "    \"\"\")\n",
        "\n",
        "# Download a sample image from the internet\n",
        "!wget -O static/image.jpg https://upload.wikimedia.org/wikipedia/commons/thumb/a/a7/React-icon.svg/1024px-React-icon.svg.png\n",
        "\n",
        "from flask import Flask, render_template_string, url_for\n",
        "from flask_ngrok import run_with_ngrok\n",
        "\n",
        "app = Flask(__name__)\n",
        "run_with_ngrok(app)\n",
        "\n",
        "@app.route('/')\n",
        "def home():\n",
        "    html = '''\n",
        "    <html>\n",
        "    <head>\n",
        "        <title>Flask Static Demo</title>\n",
        "        <link rel=\"stylesheet\" href=\"{{ url_for('static', filename='style.css') }}\">\n",
        "    </head>\n",
        "    <body>\n",
        "        <h1> This is Flask with CSS and Image</h1>\n",
        "        <img src=\"{{ url_for('static', filename='image.jpg') }}\" width=\"300\">\n",
        "    </body>\n",
        "    </html>\n",
        "    '''\n",
        "    return render_template_string(html)\n",
        "\n",
        "app.run()\n",
        "\n"
      ],
      "metadata": {
        "id": "CKMQjdjL_4yo"
      },
      "execution_count": null,
      "outputs": []
    },
    {
      "cell_type": "markdown",
      "source": [
        "#Q3 How do you define different routes with different HTTP methods in Flask ?\n",
        "\n"
      ],
      "metadata": {
        "id": "VhyChZHJCOuh"
      }
    },
    {
      "cell_type": "code",
      "source": [
        "from flask import Flask, request\n",
        "from flask_ngrok import run_with_ngrok\n",
        "\n",
        "app = Flask(__name__)\n",
        "run_with_ngrok(app)\n",
        "\n",
        "# This route only allows GET requests\n",
        "@app.route('/hello', methods=['GET'])\n",
        "def hello():\n",
        "    return \"Hello! This is a GET request.\"\n",
        "\n",
        "# This route allows POST requests\n",
        "@app.route('/submit', methods=['POST'])\n",
        "def submit():\n",
        "    data = request.form.get('name')  # Get form data\n",
        "    return f\"Received POST request with name: {data}\"\n",
        "\n",
        "app.run()\n"
      ],
      "metadata": {
        "id": "QtZXXJ43CtS1"
      },
      "execution_count": null,
      "outputs": []
    },
    {
      "cell_type": "markdown",
      "source": [
        "#Q4 How do you render HTML templates in Flask ?"
      ],
      "metadata": {
        "id": "qJYG8zDHDVLU"
      }
    },
    {
      "cell_type": "code",
      "source": [
        "# Create a templates folder\n",
        "!mkdir templates\n",
        "\n",
        "# Create a simple HTML file inside it\n",
        "with open(\"templates/welcome.html\", \"w\") as f:\n",
        "    f.write(\"\"\"\n",
        "    <html>\n",
        "      <head><title>Flask HTML Example</title></head>\n",
        "      <body>\n",
        "        <h1>Welcome {{ name }}!</h1>\n",
        "        <p>This page is rendered from an HTML file.</p>\n",
        "      </body>\n",
        "    </html>\n",
        "    \"\"\")\n",
        "\n",
        "\n",
        "from flask import Flask, render_template\n",
        "from flask_ngrok import run_with_ngrok\n",
        "\n",
        "app = Flask(__name__)\n",
        "run_with_ngrok(app)\n",
        "\n",
        "@app.route('/')\n",
        "def home():\n",
        "    return render_template(\"welcome.html\", name=\"Gourav\")\n",
        "\n",
        "app.run()\n"
      ],
      "metadata": {
        "id": "A7vwXGUfEBSX"
      },
      "execution_count": null,
      "outputs": []
    },
    {
      "cell_type": "markdown",
      "source": [
        "#Q5  How can you generate URLs for routes in Flask using url_for ?"
      ],
      "metadata": {
        "id": "B2iTECRbEclV"
      }
    },
    {
      "cell_type": "code",
      "source": [
        "from flask import Flask, url_for, redirect\n",
        "from flask_ngrok import run_with_ngrok\n",
        "\n",
        "app = Flask(__name__)\n",
        "run_with_ngrok(app)\n",
        "\n",
        "@app.route('/')\n",
        "def home():\n",
        "    return f\"Go to About Page → <a href='{url_for('about')}'>About</a>\"\n",
        "\n",
        "@app.route('/about')\n",
        "def about():\n",
        "    return \"This is the About Page.\"\n",
        "\n",
        "app.run()\n"
      ],
      "metadata": {
        "id": "IyH9AekEEjQx"
      },
      "execution_count": null,
      "outputs": []
    },
    {
      "cell_type": "markdown",
      "source": [
        "#Q6  How do you handle forms in Flask ?\n"
      ],
      "metadata": {
        "id": "AZkRl9cYE66e"
      }
    },
    {
      "cell_type": "code",
      "source": [
        "from flask import Flask, request, render_template_string\n",
        "from flask_ngrok import run_with_ngrok\n",
        "\n",
        "app = Flask(__name__)\n",
        "run_with_ngrok(app)\n",
        "\n",
        "@app.route('/', methods=['GET', 'POST'])\n",
        "def form():\n",
        "    if request.method == 'POST':\n",
        "        name = request.form['name']\n",
        "        return f\"<h2>Hello, {name}!</h2>\"\n",
        "    return render_template_string('''\n",
        "        <form method=\"POST\">\n",
        "            <label>Enter your name:</label><br>\n",
        "            <input type=\"text\" name=\"name\">\n",
        "            <input type=\"submit\" value=\"Submit\">\n",
        "        </form>\n",
        "    ''')\n",
        "\n",
        "app.run()\n"
      ],
      "metadata": {
        "id": "It6qP3xVFHfv"
      },
      "execution_count": null,
      "outputs": []
    },
    {
      "cell_type": "markdown",
      "source": [
        "#Q7  How can you validate form data in Flask ?"
      ],
      "metadata": {
        "id": "ALYxboxsGpTx"
      }
    },
    {
      "cell_type": "code",
      "source": [
        "from flask import Flask, request, render_template_string\n",
        "from flask_ngrok import run_with_ngrok\n",
        "\n",
        "app = Flask(__name__)\n",
        "run_with_ngrok(app)\n",
        "\n",
        "@app.route('/', methods=['GET', 'POST'])\n",
        "def form():\n",
        "    error = \"\"\n",
        "    if request.method == 'POST':\n",
        "        name = request.form['name']\n",
        "        if name.strip() == \"\":\n",
        "            error = \"Name cannot be empty.\"\n",
        "        else:\n",
        "            return f\"<h2>Welcome, {name}!</h2>\"\n",
        "    return render_template_string('''\n",
        "        <form method=\"POST\">\n",
        "            <label>Enter your name:</label><br>\n",
        "            <input type=\"text\" name=\"name\">\n",
        "            <input type=\"submit\" value=\"Submit\"><br>\n",
        "            <span style=\"color:red;\">{{ error }}</span>\n",
        "        </form>\n",
        "    ''', error=error)\n",
        "\n",
        "app.run()\n"
      ],
      "metadata": {
        "id": "qOmlLYbHGyXo"
      },
      "execution_count": null,
      "outputs": []
    },
    {
      "cell_type": "markdown",
      "source": [
        "#Q8  How do you manage sessions in Flask ?\n"
      ],
      "metadata": {
        "id": "L5ekrMKtHGmo"
      }
    },
    {
      "cell_type": "code",
      "source": [
        "from flask import Flask, session, redirect, url_for, request, render_template_string\n",
        "from flask_ngrok import run_with_ngrok\n",
        "\n",
        "app = Flask(__name__)\n",
        "app.secret_key = 'mysecretkey'\n",
        "run_with_ngrok(app)\n",
        "\n",
        "@app.route('/', methods=['GET', 'POST'])\n",
        "def login():\n",
        "    if request.method == 'POST':\n",
        "        username = request.form['username']\n",
        "        session['user'] = username\n",
        "        return redirect(url_for('profile'))\n",
        "    return render_template_string('''\n",
        "        <form method=\"POST\">\n",
        "            <label>Username:</label><br>\n",
        "            <input type=\"text\" name=\"username\">\n",
        "            <input type=\"submit\" value=\"Login\">\n",
        "        </form>\n",
        "    ''')\n",
        "\n",
        "@app.route('/profile')\n",
        "def profile():\n",
        "    if 'user' in session:\n",
        "        return f\"<h2>Welcome, {session['user']}!</h2>\"\n",
        "    return redirect(url_for('login'))\n",
        "\n",
        "@app.route('/logout')\n",
        "def logout():\n",
        "    session.pop('user', None)\n",
        "    return redirect(url_for('login'))\n",
        "\n",
        "app.run()\n"
      ],
      "metadata": {
        "id": "LFKMUYhGHM_g"
      },
      "execution_count": null,
      "outputs": []
    },
    {
      "cell_type": "markdown",
      "source": [
        "#Q9 How do you redirect to a different route in Flask ?"
      ],
      "metadata": {
        "id": "iaYpOkA7H7eY"
      }
    },
    {
      "cell_type": "code",
      "source": [
        "from flask import Flask, redirect, url_for\n",
        "from flask_ngrok import run_with_ngrok\n",
        "\n",
        "app = Flask(__name__)\n",
        "run_with_ngrok(app)\n",
        "\n",
        "@app.route('/')\n",
        "def home():\n",
        "    return redirect(url_for('welcome'))\n",
        "\n",
        "@app.route('/welcome')\n",
        "def welcome():\n",
        "    return \"<h2>You have been redirected to the Welcome page.</h2>\"\n",
        "\n",
        "app.run()\n"
      ],
      "metadata": {
        "id": "Wc8dFOj0IEwJ"
      },
      "execution_count": null,
      "outputs": []
    },
    {
      "cell_type": "markdown",
      "source": [
        "#Q10  How do you handle errors in Flask (e.g., 404) ?"
      ],
      "metadata": {
        "id": "OeexxVogInQG"
      }
    },
    {
      "cell_type": "code",
      "source": [
        "from flask import Flask\n",
        "from flask_ngrok import run_with_ngrok\n",
        "\n",
        "app = Flask(__name__)\n",
        "run_with_ngrok(app)\n",
        "\n",
        "@app.route('/')\n",
        "def home():\n",
        "    return \"<h2>Welcome to the Home Page!</h2>\"\n",
        "\n",
        "@app.errorhandler(404)\n",
        "def page_not_found(e):\n",
        "    return \"<h3>404 Error: Page not found</h3>\", 404\n",
        "\n",
        "app.run()\n"
      ],
      "metadata": {
        "id": "Y0pVR5SbI53P"
      },
      "execution_count": null,
      "outputs": []
    },
    {
      "cell_type": "markdown",
      "source": [
        "#Q11  How do you structure a Flask app using Blueprints ?"
      ],
      "metadata": {
        "id": "GT0UVX6FJMsy"
      }
    },
    {
      "cell_type": "code",
      "source": [
        "from flask import Flask, Blueprint\n",
        "from flask_ngrok import run_with_ngrok\n",
        "\n",
        "# Create a Blueprint\n",
        "my_page = Blueprint('my_page', __name__)\n",
        "\n",
        "@my_page.route('/hello')\n",
        "def hello():\n",
        "    return \"<h2>Hello from the Blueprint route!</h2>\"\n",
        "\n",
        "# Create the main app\n",
        "app = Flask(__name__)\n",
        "run_with_ngrok(app)\n",
        "\n",
        "# Register the Blueprint\n",
        "app.register_blueprint(my_page)\n",
        "\n",
        "@app.route('/')\n",
        "def home():\n",
        "    return \"<h2>Welcome to the Home Page!</h2>\"\n",
        "\n",
        "app.run()\n"
      ],
      "metadata": {
        "id": "Z7qty_fKJUyU"
      },
      "execution_count": null,
      "outputs": []
    },
    {
      "cell_type": "markdown",
      "source": [
        "#Q12  How do you define a custom Jinja filter in Flask ?"
      ],
      "metadata": {
        "id": "27jjU1I6JuMx"
      }
    },
    {
      "cell_type": "code",
      "source": [
        "from flask import Flask, render_template_string\n",
        "from flask_ngrok import run_with_ngrok\n",
        "\n",
        "app = Flask(__name__)\n",
        "run_with_ngrok(app)\n",
        "\n",
        "# Define a custom filter that reverses text\n",
        "def reverse_string(s):\n",
        "    return s[::-1]\n",
        "\n",
        "# Register the filter\n",
        "app.jinja_env.filters['reverse'] = reverse_string\n",
        "\n",
        "@app.route('/')\n",
        "def home():\n",
        "    return render_template_string('''\n",
        "        <h2>Original: Hello Flask</h2>\n",
        "        <h2>Reversed: {{ 'Hello Flask' | reverse }}</h2>\n",
        "    ''')\n",
        "\n",
        "app.run()\n"
      ],
      "metadata": {
        "id": "6GFlarC3J17H"
      },
      "execution_count": null,
      "outputs": []
    },
    {
      "cell_type": "markdown",
      "source": [
        "Q13 How can you redirect with query parameters in Flask ?"
      ],
      "metadata": {
        "id": "SXEK7BBmKL61"
      }
    },
    {
      "cell_type": "code",
      "source": [
        "from flask import Flask, redirect, url_for, request\n",
        "from flask_ngrok import run_with_ngrok\n",
        "\n",
        "app = Flask(__name__)\n",
        "run_with_ngrok(app)\n",
        "\n",
        "@app.route('/')\n",
        "def home():\n",
        "    return redirect(url_for('greet', name='Gourav'))\n",
        "\n",
        "@app.route('/greet')\n",
        "def greet():\n",
        "    name = request.args.get('name', 'Guest')\n",
        "    return f\"<h2>Hello, {name}!</h2>\"\n",
        "\n",
        "app.run()\n"
      ],
      "metadata": {
        "id": "gNxa62mEKTF0"
      },
      "execution_count": null,
      "outputs": []
    },
    {
      "cell_type": "markdown",
      "source": [
        "#Q14 How do you return JSON responses in Flask ?"
      ],
      "metadata": {
        "id": "pm1pJDYvKp8h"
      }
    },
    {
      "cell_type": "code",
      "source": [
        "from flask import Flask, jsonify\n",
        "from flask_ngrok import run_with_ngrok\n",
        "\n",
        "app = Flask(__name__)\n",
        "run_with_ngrok(app)\n",
        "\n",
        "@app.route('/data')\n",
        "def data():\n",
        "    return jsonify({\n",
        "        \"name\": \"Gourav\",\n",
        "        \"age\": 19,\n",
        "        \"status\": \"success\"\n",
        "    })\n",
        "\n",
        "app.run()\n"
      ],
      "metadata": {
        "id": "iphlihEYK0S2"
      },
      "execution_count": null,
      "outputs": []
    },
    {
      "cell_type": "markdown",
      "source": [
        "#Q15 How do you capture URL parameters in Flask ?"
      ],
      "metadata": {
        "id": "pU-1pN7MLYiP"
      }
    },
    {
      "cell_type": "code",
      "source": [
        "from flask import Flask\n",
        "from flask_ngrok import run_with_ngrok\n",
        "\n",
        "app = Flask(__name__)\n",
        "run_with_ngrok(app)\n",
        "\n",
        "@app.route('/user/<username>')\n",
        "def show_user(username):\n",
        "    return f\"<h2>Hello, {username}!</h2>\"\n",
        "\n",
        "app.run()\n"
      ],
      "metadata": {
        "id": "GXgjko9dLhgO"
      },
      "execution_count": null,
      "outputs": []
    },
    {
      "cell_type": "markdown",
      "source": [
        "---\n",
        "---                                      \n",
        "                                       C O M P L E T E D\n",
        "                                       \n",
        "---\n",
        "---                                "
      ],
      "metadata": {
        "id": "sXJ86YyELywg"
      }
    }
  ]
}